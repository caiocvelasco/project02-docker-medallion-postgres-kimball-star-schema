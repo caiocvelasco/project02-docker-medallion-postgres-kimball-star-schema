{
 "cells": [
  {
   "cell_type": "code",
   "execution_count": 29,
   "metadata": {},
   "outputs": [],
   "source": [
    "import pandas as pd # Data Transformation\n",
    "import pytest       # Makes it easy to write small, readable tests\n",
    "import os\n",
    "from dotenv import load_dotenv\n",
    "import psycopg2\n",
    "from psycopg2 import sql\n",
    "import sqlalchemy\n",
    "from sqlalchemy import create_engine, text, exc"
   ]
  },
  {
   "cell_type": "code",
   "execution_count": 30,
   "metadata": {},
   "outputs": [
    {
     "name": "stdout",
     "output_type": "stream",
     "text": [
      "2024-06-14 17:39:09,782 INFO sqlalchemy.engine.Engine BEGIN (implicit)\n",
      "2024-06-14 17:39:09,784 INFO sqlalchemy.engine.Engine SELECT version();\n",
      "2024-06-14 17:39:09,786 INFO sqlalchemy.engine.Engine [generated in 0.00402s] {}\n",
      "2024-06-14 17:39:09,790 INFO sqlalchemy.engine.Engine ROLLBACK\n",
      "Connected to PostgreSQL successfully. Version: PostgreSQL 16.3 (Debian 16.3-1.pgdg120+1) on x86_64-pc-linux-gnu, compiled by gcc (Debian 12.2.0-14) 12.2.0, 64-bit\n"
     ]
    }
   ],
   "source": [
    "# Test query to check connection\n",
    "test_query = \"SELECT version();\"\n",
    "\n",
    "try:\n",
    "    # Execute the test query\n",
    "    with db_engine.connect() as connection:\n",
    "        result = connection.execute(text(test_query))\n",
    "        version = result.fetchone()\n",
    "    print(\"Connected to PostgreSQL successfully. Version:\", version[0])\n",
    "except Exception as e:\n",
    "    print(f\"Error connecting to PostgreSQL: {e}\")"
   ]
  },
  {
   "cell_type": "code",
   "execution_count": 31,
   "metadata": {},
   "outputs": [
    {
     "name": "stdout",
     "output_type": "stream",
     "text": [
      "2024-06-14 17:39:09,848 INFO sqlalchemy.engine.Engine select pg_catalog.version()\n",
      "2024-06-14 17:39:09,850 INFO sqlalchemy.engine.Engine [raw sql] {}\n",
      "2024-06-14 17:39:09,853 INFO sqlalchemy.engine.Engine select current_schema()\n",
      "2024-06-14 17:39:09,855 INFO sqlalchemy.engine.Engine [raw sql] {}\n",
      "2024-06-14 17:39:09,859 INFO sqlalchemy.engine.Engine show standard_conforming_strings\n",
      "2024-06-14 17:39:09,861 INFO sqlalchemy.engine.Engine [raw sql] {}\n",
      "Attempting to create schemas...\n",
      "2024-06-14 17:39:09,864 INFO sqlalchemy.engine.Engine BEGIN (implicit)\n",
      "2024-06-14 17:39:09,866 INFO sqlalchemy.engine.Engine \n",
      "CREATE SCHEMA IF NOT EXISTS churn_bronze;\n",
      "CREATE SCHEMA IF NOT EXISTS churn_silver;\n",
      "CREATE SCHEMA IF NOT EXISTS churn_gold;\n",
      "\n",
      "2024-06-14 17:39:09,868 INFO sqlalchemy.engine.Engine [generated in 0.00405s] {}\n",
      "2024-06-14 17:39:09,872 INFO sqlalchemy.engine.Engine ROLLBACK\n",
      "Schemas created successfully.\n",
      "Checking for the existence of schemas...\n",
      "2024-06-14 17:39:09,876 INFO sqlalchemy.engine.Engine BEGIN (implicit)\n",
      "2024-06-14 17:39:09,878 INFO sqlalchemy.engine.Engine \n",
      "SELECT schema_name\n",
      "FROM information_schema.schemata\n",
      "WHERE schema_name IN ('churn_bronze', 'churn_silver', 'churn_gold');\n",
      "\n",
      "2024-06-14 17:39:09,880 INFO sqlalchemy.engine.Engine [generated in 0.00369s] {}\n",
      "2024-06-14 17:39:09,884 INFO sqlalchemy.engine.Engine ROLLBACK\n",
      "No schemas found.\n"
     ]
    }
   ],
   "source": [
    "import os\n",
    "from dotenv import load_dotenv\n",
    "from sqlalchemy import create_engine, text, exc\n",
    "\n",
    "# Load environment variables from .env file\n",
    "load_dotenv()\n",
    "\n",
    "# Retrieve individual components from environment variables\n",
    "user = os.getenv('POSTGRES_USER')\n",
    "password = os.getenv('POSTGRES_PASSWORD')\n",
    "host = os.getenv('POSTGRES_HOST')\n",
    "db_name = os.getenv('POSTGRES_DB')\n",
    "port = os.getenv('POSTGRES_PORT', 5432)  # Default to 5432 if not set\n",
    "\n",
    "# Ensure the connection URI is retrieved successfully\n",
    "if not all([user, password, host, db_name]):\n",
    "    raise ValueError(\"One or more environment variables for the database connection are not set\")\n",
    "\n",
    "# Construct the connection URI\n",
    "connection_uri = f\"postgresql://{user}:{password}@{host}:{port}/{db_name}\"\n",
    "\n",
    "# Ensure the connection URI is retrieved successfully\n",
    "if connection_uri is None:\n",
    "    raise ValueError(\"DATABASE_URL environment variable is not set\")\n",
    "\n",
    "# Create the database engine\n",
    "db_engine = create_engine(connection_uri, echo=True)  # Set echo=True for SQL logging\n",
    "\n",
    "# SQL query to create schemas\n",
    "create_schemas_sql = \"\"\"\n",
    "CREATE SCHEMA IF NOT EXISTS churn_bronze;\n",
    "CREATE SCHEMA IF NOT EXISTS churn_silver;\n",
    "CREATE SCHEMA IF NOT EXISTS churn_gold;\n",
    "\"\"\"\n",
    "\n",
    "try:\n",
    "    # Execute the SQL query to create schemas\n",
    "    with db_engine.connect() as connection:\n",
    "        print(\"Attempting to create schemas...\")\n",
    "        connection.execute(text(create_schemas_sql))\n",
    "    print(\"Schemas created successfully.\")\n",
    "except exc.SQLAlchemyError as e:\n",
    "    print(f\"Error creating schemas: {e}\")\n",
    "\n",
    "# SQL query to check the created schemas\n",
    "check_schemas_sql = \"\"\"\n",
    "SELECT schema_name\n",
    "FROM information_schema.schemata\n",
    "WHERE schema_name IN ('churn_bronze', 'churn_silver', 'churn_gold');\n",
    "\"\"\"\n",
    "\n",
    "try:\n",
    "    # Execute the SQL query to check schemas and fetch the result\n",
    "    with db_engine.connect() as connection:\n",
    "        print(\"Checking for the existence of schemas...\")\n",
    "        result = connection.execute(text(check_schemas_sql))\n",
    "        schemas = result.fetchall()\n",
    "    if schemas:\n",
    "        print(\"Schemas present in the database:\")\n",
    "        for schema in schemas:\n",
    "            print(schema[0])\n",
    "    else:\n",
    "        print(\"No schemas found.\")\n",
    "except exc.SQLAlchemyError as e:\n",
    "    print(f\"Error checking schemas: {e}\")\n",
    "\n",
    "# Close the engine connection\n",
    "db_engine.dispose()\n"
   ]
  }
 ],
 "metadata": {
  "kernelspec": {
   "display_name": "Python 3",
   "language": "python",
   "name": "python3"
  },
  "language_info": {
   "codemirror_mode": {
    "name": "ipython",
    "version": 3
   },
   "file_extension": ".py",
   "mimetype": "text/x-python",
   "name": "python",
   "nbconvert_exporter": "python",
   "pygments_lexer": "ipython3",
   "version": "3.9.13"
  }
 },
 "nbformat": 4,
 "nbformat_minor": 2
}
